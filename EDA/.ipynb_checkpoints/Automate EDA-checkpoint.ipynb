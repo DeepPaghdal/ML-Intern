{
 "cells": [
  {
   "cell_type": "code",
   "execution_count": 19,
   "id": "6e16bdb5-5daf-476d-9784-0f45cbbbc9f2",
   "metadata": {},
   "outputs": [],
   "source": [
    "import pandas as pd\n",
    "import numpy as np"
   ]
  },
  {
   "cell_type": "code",
   "execution_count": 21,
   "id": "8a31732b-ec3a-43e4-a572-93709317444d",
   "metadata": {},
   "outputs": [
    {
     "data": {
      "text/html": [
       "<div>\n",
       "<style scoped>\n",
       "    .dataframe tbody tr th:only-of-type {\n",
       "        vertical-align: middle;\n",
       "    }\n",
       "\n",
       "    .dataframe tbody tr th {\n",
       "        vertical-align: top;\n",
       "    }\n",
       "\n",
       "    .dataframe thead th {\n",
       "        text-align: right;\n",
       "    }\n",
       "</style>\n",
       "<table border=\"1\" class=\"dataframe\">\n",
       "  <thead>\n",
       "    <tr style=\"text-align: right;\">\n",
       "      <th></th>\n",
       "      <th>Hotel_Name_City</th>\n",
       "      <th>Review_Overall_Rating</th>\n",
       "      <th>date_of_review</th>\n",
       "      <th>Month_of_Visit</th>\n",
       "      <th>Review_Type</th>\n",
       "      <th>Rating_Value</th>\n",
       "      <th>Rating_Location</th>\n",
       "      <th>Rating_Sleep_Quality</th>\n",
       "      <th>Rating_Rooms</th>\n",
       "      <th>Rating_Cleanliness</th>\n",
       "      <th>Rating_Service</th>\n",
       "    </tr>\n",
       "  </thead>\n",
       "  <tbody>\n",
       "    <tr>\n",
       "      <th>0</th>\n",
       "      <td>Bombay Hotel Jaipur</td>\n",
       "      <td>3</td>\n",
       "      <td>8/26/2014</td>\n",
       "      <td>Aug-14</td>\n",
       "      <td>with family</td>\n",
       "      <td>3.0</td>\n",
       "      <td>4.0</td>\n",
       "      <td>NaN</td>\n",
       "      <td>NaN</td>\n",
       "      <td>NaN</td>\n",
       "      <td>3.0</td>\n",
       "    </tr>\n",
       "    <tr>\n",
       "      <th>1</th>\n",
       "      <td>Bombay Hotel Jaipur</td>\n",
       "      <td>1</td>\n",
       "      <td>06-02-2013</td>\n",
       "      <td>Jun-13</td>\n",
       "      <td>NaN</td>\n",
       "      <td>1.0</td>\n",
       "      <td>2.0</td>\n",
       "      <td>NaN</td>\n",
       "      <td>1.0</td>\n",
       "      <td>1.0</td>\n",
       "      <td>3.0</td>\n",
       "    </tr>\n",
       "    <tr>\n",
       "      <th>2</th>\n",
       "      <td>Coffea Aroma Resort - Wayanad Meppadi</td>\n",
       "      <td>2</td>\n",
       "      <td>10/20/2014</td>\n",
       "      <td>Oct-14</td>\n",
       "      <td>with friends</td>\n",
       "      <td>2.0</td>\n",
       "      <td>NaN</td>\n",
       "      <td>NaN</td>\n",
       "      <td>2.0</td>\n",
       "      <td>NaN</td>\n",
       "      <td>1.0</td>\n",
       "    </tr>\n",
       "    <tr>\n",
       "      <th>3</th>\n",
       "      <td>Coffea Aroma Resort - Wayanad Meppadi</td>\n",
       "      <td>3</td>\n",
       "      <td>9/29/2014</td>\n",
       "      <td>Sep-14</td>\n",
       "      <td>with friends</td>\n",
       "      <td>NaN</td>\n",
       "      <td>4.0</td>\n",
       "      <td>NaN</td>\n",
       "      <td>NaN</td>\n",
       "      <td>3.0</td>\n",
       "      <td>3.0</td>\n",
       "    </tr>\n",
       "    <tr>\n",
       "      <th>4</th>\n",
       "      <td>Coffea Aroma Resort - Wayanad Meppadi</td>\n",
       "      <td>3</td>\n",
       "      <td>09-03-2014</td>\n",
       "      <td>Jul-14</td>\n",
       "      <td>as a couple</td>\n",
       "      <td>NaN</td>\n",
       "      <td>NaN</td>\n",
       "      <td>3.0</td>\n",
       "      <td>2.0</td>\n",
       "      <td>NaN</td>\n",
       "      <td>5.0</td>\n",
       "    </tr>\n",
       "  </tbody>\n",
       "</table>\n",
       "</div>"
      ],
      "text/plain": [
       "                         Hotel_Name_City  Review_Overall_Rating  \\\n",
       "0                    Bombay Hotel Jaipur                      3   \n",
       "1                    Bombay Hotel Jaipur                      1   \n",
       "2  Coffea Aroma Resort - Wayanad Meppadi                      2   \n",
       "3  Coffea Aroma Resort - Wayanad Meppadi                      3   \n",
       "4  Coffea Aroma Resort - Wayanad Meppadi                      3   \n",
       "\n",
       "  date_of_review Month_of_Visit   Review_Type  Rating_Value  Rating_Location  \\\n",
       "0      8/26/2014         Aug-14   with family           3.0              4.0   \n",
       "1     06-02-2013         Jun-13           NaN           1.0              2.0   \n",
       "2     10/20/2014         Oct-14  with friends           2.0              NaN   \n",
       "3      9/29/2014         Sep-14  with friends           NaN              4.0   \n",
       "4     09-03-2014         Jul-14   as a couple           NaN              NaN   \n",
       "\n",
       "   Rating_Sleep_Quality  Rating_Rooms  Rating_Cleanliness  Rating_Service  \n",
       "0                   NaN           NaN                 NaN             3.0  \n",
       "1                   NaN           1.0                 1.0             3.0  \n",
       "2                   NaN           2.0                 NaN             1.0  \n",
       "3                   NaN           NaN                 3.0             3.0  \n",
       "4                   3.0           2.0                 NaN             5.0  "
      ]
     },
     "execution_count": 21,
     "metadata": {},
     "output_type": "execute_result"
    }
   ],
   "source": [
    "df = pd.read_csv('Sample hotel data.csv')\n",
    "df.head()"
   ]
  },
  {
   "cell_type": "code",
   "execution_count": 22,
   "id": "f9133ee1-ef11-4458-b399-d3e482403d48",
   "metadata": {},
   "outputs": [
    {
     "name": "stdout",
     "output_type": "stream",
     "text": [
      "Collecting sweetviz\n",
      "  Downloading sweetviz-2.3.1-py3-none-any.whl.metadata (24 kB)\n",
      "Requirement already satisfied: pandas!=1.0.0,!=1.0.1,!=1.0.2,>=0.25.3 in /Library/Frameworks/Python.framework/Versions/3.12/lib/python3.12/site-packages (from sweetviz) (2.2.2)\n",
      "Requirement already satisfied: numpy>=1.16.0 in /Library/Frameworks/Python.framework/Versions/3.12/lib/python3.12/site-packages (from sweetviz) (2.1.1)\n",
      "Requirement already satisfied: matplotlib>=3.1.3 in /Library/Frameworks/Python.framework/Versions/3.12/lib/python3.12/site-packages (from sweetviz) (3.9.2)\n",
      "Requirement already satisfied: tqdm>=4.43.0 in /Library/Frameworks/Python.framework/Versions/3.12/lib/python3.12/site-packages (from sweetviz) (4.66.5)\n",
      "Requirement already satisfied: scipy>=1.3.2 in /Library/Frameworks/Python.framework/Versions/3.12/lib/python3.12/site-packages (from sweetviz) (1.14.1)\n",
      "Requirement already satisfied: jinja2>=2.11.1 in /Library/Frameworks/Python.framework/Versions/3.12/lib/python3.12/site-packages (from sweetviz) (3.1.4)\n",
      "Collecting importlib-resources>=1.2.0 (from sweetviz)\n",
      "  Downloading importlib_resources-6.4.5-py3-none-any.whl.metadata (4.0 kB)\n",
      "Requirement already satisfied: MarkupSafe>=2.0 in /Library/Frameworks/Python.framework/Versions/3.12/lib/python3.12/site-packages (from jinja2>=2.11.1->sweetviz) (2.1.5)\n",
      "Requirement already satisfied: contourpy>=1.0.1 in /Library/Frameworks/Python.framework/Versions/3.12/lib/python3.12/site-packages (from matplotlib>=3.1.3->sweetviz) (1.3.0)\n",
      "Requirement already satisfied: cycler>=0.10 in /Library/Frameworks/Python.framework/Versions/3.12/lib/python3.12/site-packages (from matplotlib>=3.1.3->sweetviz) (0.12.1)\n",
      "Requirement already satisfied: fonttools>=4.22.0 in /Library/Frameworks/Python.framework/Versions/3.12/lib/python3.12/site-packages (from matplotlib>=3.1.3->sweetviz) (4.54.1)\n",
      "Requirement already satisfied: kiwisolver>=1.3.1 in /Library/Frameworks/Python.framework/Versions/3.12/lib/python3.12/site-packages (from matplotlib>=3.1.3->sweetviz) (1.4.7)\n",
      "Requirement already satisfied: packaging>=20.0 in /Library/Frameworks/Python.framework/Versions/3.12/lib/python3.12/site-packages (from matplotlib>=3.1.3->sweetviz) (24.1)\n",
      "Requirement already satisfied: pillow>=8 in /Library/Frameworks/Python.framework/Versions/3.12/lib/python3.12/site-packages (from matplotlib>=3.1.3->sweetviz) (11.0.0)\n",
      "Requirement already satisfied: pyparsing>=2.3.1 in /Library/Frameworks/Python.framework/Versions/3.12/lib/python3.12/site-packages (from matplotlib>=3.1.3->sweetviz) (3.2.0)\n",
      "Requirement already satisfied: python-dateutil>=2.7 in /Library/Frameworks/Python.framework/Versions/3.12/lib/python3.12/site-packages (from matplotlib>=3.1.3->sweetviz) (2.9.0.post0)\n",
      "Requirement already satisfied: pytz>=2020.1 in /Library/Frameworks/Python.framework/Versions/3.12/lib/python3.12/site-packages (from pandas!=1.0.0,!=1.0.1,!=1.0.2,>=0.25.3->sweetviz) (2024.2)\n",
      "Requirement already satisfied: tzdata>=2022.7 in /Library/Frameworks/Python.framework/Versions/3.12/lib/python3.12/site-packages (from pandas!=1.0.0,!=1.0.1,!=1.0.2,>=0.25.3->sweetviz) (2024.1)\n",
      "Requirement already satisfied: six>=1.5 in /Library/Frameworks/Python.framework/Versions/3.12/lib/python3.12/site-packages (from python-dateutil>=2.7->matplotlib>=3.1.3->sweetviz) (1.16.0)\n",
      "Downloading sweetviz-2.3.1-py3-none-any.whl (15.1 MB)\n",
      "\u001b[2K   \u001b[90m━━━━━━━━━━━━━━━━━━━━━━━━━━━━━━━━━━━━━━━━\u001b[0m \u001b[32m15.1/15.1 MB\u001b[0m \u001b[31m13.5 MB/s\u001b[0m eta \u001b[36m0:00:00\u001b[0ma \u001b[36m0:00:01\u001b[0m\n",
      "\u001b[?25hDownloading importlib_resources-6.4.5-py3-none-any.whl (36 kB)\n",
      "Installing collected packages: importlib-resources, sweetviz\n",
      "Successfully installed importlib-resources-6.4.5 sweetviz-2.3.1\n"
     ]
    }
   ],
   "source": [
    "!pip3 install sweetviz"
   ]
  },
  {
   "cell_type": "code",
   "execution_count": 23,
   "id": "27293dbf-f51e-4c6e-9f3a-e172f2128c82",
   "metadata": {},
   "outputs": [
    {
     "data": {
      "application/vnd.jupyter.widget-view+json": {
       "model_id": "8993c1cd2b41449b910df2626a246e97",
       "version_major": 2,
       "version_minor": 0
      },
      "text/plain": [
       "                                             |      | [  0%]   00:00 -> (? left)"
      ]
     },
     "metadata": {},
     "output_type": "display_data"
    },
    {
     "name": "stdout",
     "output_type": "stream",
     "text": [
      "Report Analyst.html was generated! NOTEBOOK/COLAB USERS: the web browser MAY not pop up, regardless, the report IS saved in your notebook/colab files.\n"
     ]
    }
   ],
   "source": [
    "import sweetviz as sv\n",
    "hotelsfeedback_report = sv.analyze(df)\n",
    "hotelsfeedback_report.show_html('Analyst.html')"
   ]
  },
  {
   "cell_type": "code",
   "execution_count": 28,
   "id": "158eb768-bde0-42f2-b2e3-81924babd3f8",
   "metadata": {},
   "outputs": [
    {
     "name": "stdout",
     "output_type": "stream",
     "text": [
      "<class 'pandas.core.frame.DataFrame'>\n",
      "RangeIndex: 942 entries, 0 to 941\n",
      "Data columns (total 11 columns):\n",
      " #   Column                 Non-Null Count  Dtype  \n",
      "---  ------                 --------------  -----  \n",
      " 0   Hotel_Name_City        942 non-null    object \n",
      " 1   Review_Overall_Rating  942 non-null    int64  \n",
      " 2   date_of_review         942 non-null    object \n",
      " 3   Month_of_Visit         936 non-null    object \n",
      " 4   Review_Type            870 non-null    object \n",
      " 5   Rating_Value           818 non-null    float64\n",
      " 6   Rating_Location        799 non-null    float64\n",
      " 7   Rating_Sleep_Quality   690 non-null    float64\n",
      " 8   Rating_Rooms           797 non-null    float64\n",
      " 9   Rating_Cleanliness     816 non-null    float64\n",
      " 10  Rating_Service         875 non-null    float64\n",
      "dtypes: float64(6), int64(1), object(4)\n",
      "memory usage: 81.1+ KB\n"
     ]
    }
   ],
   "source": [
    "df.info()"
   ]
  },
  {
   "cell_type": "code",
   "execution_count": null,
   "id": "be502a21-9cfe-4270-8e17-f9219ba6359c",
   "metadata": {},
   "outputs": [],
   "source": []
  }
 ],
 "metadata": {
  "kernelspec": {
   "display_name": "Python 3 (ipykernel)",
   "language": "python",
   "name": "python3"
  },
  "language_info": {
   "codemirror_mode": {
    "name": "ipython",
    "version": 3
   },
   "file_extension": ".py",
   "mimetype": "text/x-python",
   "name": "python",
   "nbconvert_exporter": "python",
   "pygments_lexer": "ipython3",
   "version": "3.12.5"
  }
 },
 "nbformat": 4,
 "nbformat_minor": 5
}
